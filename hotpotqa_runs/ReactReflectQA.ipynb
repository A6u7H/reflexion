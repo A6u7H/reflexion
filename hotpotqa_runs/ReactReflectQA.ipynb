{
 "cells": [
  {
   "cell_type": "code",
   "execution_count": 8,
   "metadata": {},
   "outputs": [],
   "source": [
    "import joblib\n",
    "from react_cls import ReactReflectAgent, format_reflections\n",
    "from mocks import DocStoreExplorerMock, LLMMock"
   ]
  },
  {
   "cell_type": "code",
   "execution_count": 15,
   "metadata": {},
   "outputs": [],
   "source": [
    "def summarize_trial(agents):\n",
    "    correct = [a for a in agents if a.is_correct()]\n",
    "    incorrect = [a for a in agents if a.is_finished() and not a.is_correct()]\n",
    "    return correct, incorrect\n",
    "\n",
    "def remove_fewshot(prompt: str) -> str:\n",
    "    prefix = prompt.split('Here are some examples:')[0]\n",
    "    suffix = prompt.split('(END OF EXAMPLES)')[1]\n",
    "    return prefix.strip('\\n').strip() +'\\n' +  suffix.strip('\\n').strip()\n",
    "\n",
    "def log_trial(agents, trial_n):\n",
    "    correct, incorrect = summarize_trial(agents)\n",
    "\n",
    "    log = f\"\"\"\n",
    "########################################\n",
    "BEGIN TRIAL {trial_n}\n",
    "Trial summary: Correct: {len(correct)}, Incorrect: {len(incorrect)}\n",
    "#######################################\n",
    "\"\"\"\n",
    "\n",
    "    log += '------------- BEGIN CORRECT AGENTS -------------\\n\\n'\n",
    "    for agent in correct:\n",
    "        log += remove_fewshot(agent._build_agent_prompt()) + f'\\nCorrect answer: {agent.key}\\n\\n'\n",
    "\n",
    "    log += '------------- BEGIN INCORRECT AGENTS -----------\\n\\n'\n",
    "    for agent in incorrect:\n",
    "        log += remove_fewshot(agent._build_agent_prompt()) + f'\\nCorrect answer: {agent.key}\\n\\n'\n",
    "\n",
    "    return log\n"
   ]
  },
  {
   "cell_type": "code",
   "execution_count": 11,
   "metadata": {},
   "outputs": [],
   "source": [
    "hotpot = joblib.load('data/hotpot-qa-distractor-sample.joblib').reset_index(drop = True)"
   ]
  },
  {
   "cell_type": "code",
   "execution_count": 12,
   "metadata": {},
   "outputs": [],
   "source": [
    "agents = [ReactReflectAgent(row['question'], row['answer']) for _, row in hotpot.iterrows()]"
   ]
  },
  {
   "cell_type": "code",
   "execution_count": 13,
   "metadata": {},
   "outputs": [],
   "source": [
    "trial = 0\n",
    "log = ''\n",
    "last_correct = 0 "
   ]
  },
  {
   "cell_type": "code",
   "execution_count": null,
   "metadata": {},
   "outputs": [],
   "source": [
    "for agent in [a for a in agents if not a.is_correct()]:\n",
    "        agent.run(reflect_strategy='last_attempt')\n",
    "        print(f'Answer: {agent.key}')\n",
    "trial += 1\n",
    "log += log_trial(agents, trial)\n",
    "correct, incorrect = summarize_trial(agents)\n",
    "print(f'Finished Trial {trial}, Correct: {len(correct)}, Incorrect: {len(incorrect)}')"
   ]
  },
  {
   "cell_type": "code",
   "execution_count": 17,
   "metadata": {},
   "outputs": [
    {
     "data": {
      "text/plain": [
       "['output/last_trial_react/react_incorrect_dicts_trial_0.joblib']"
      ]
     },
     "execution_count": 17,
     "metadata": {},
     "output_type": "execute_result"
    }
   ],
   "source": [
    "dicts = [dict(a.__dict__) for a in incorrect]\n",
    "for d in dicts:\n",
    "    for k, v in d.items():\n",
    "        d[k] = str(v)\n",
    "\n",
    "joblib.dump(dicts, 'output/last_trial_react/react_incorrect_dicts_trial_0.joblib')"
   ]
  },
  {
   "cell_type": "code",
   "execution_count": null,
   "metadata": {},
   "outputs": [],
   "source": [
    "while last_correct != correct:\n",
    "    last_correct, _ = summarize_trial(agents)\n",
    "    for agent in [a for a in agents if not a.is_correct()]:\n",
    "        agent.run(reflect_strategy='last_attempt')\n",
    "        print(f'Answer: {agent.key}')\n",
    "    trial += 1\n",
    "    log += log_trial(agents, trial)\n",
    "    correct, incorrect = summarize_trial(agents)\n",
    "    print(f'Finished Trial {trial}, Correct: {len(correct)}, Incorrect: {len(incorrect)}')"
   ]
  },
  {
   "cell_type": "code",
   "execution_count": null,
   "metadata": {},
   "outputs": [],
   "source": [
    "for agent in [a for a in agents if not a.is_correct()]:\n",
    "        agent.run(reflect_strategy='last_attempt + reflexion')\n",
    "        print(f'Answer: {agent.key}')\n",
    "trial += 1\n",
    "log += log_trial(agents, trial)\n",
    "correct, incorrect = summarize_trial(agents)\n",
    "print(f'Finished Trial {trial}, Correct: {len(correct)}, Incorrect: {len(incorrect)}')"
   ]
  },
  {
   "cell_type": "code",
   "execution_count": 18,
   "metadata": {},
   "outputs": [],
   "source": [
    "with open('output/last_trial_react/100_questions_5_trials.txt', 'w') as f:\n",
    "    f.write(log)"
   ]
  },
  {
   "cell_type": "code",
   "execution_count": 18,
   "metadata": {},
   "outputs": [
    {
     "data": {
      "text/plain": [
       "['output/reflect/react_reflect_50_correct_dicts.joblib']"
      ]
     },
     "execution_count": 18,
     "metadata": {},
     "output_type": "execute_result"
    }
   ],
   "source": [
    "dicts = [dict(a.__dict__) for a in correct]\n",
    "for d in dicts:\n",
    "    for k, v in d.items():\n",
    "        d[k] = str(v)\n",
    "\n",
    "joblib.dump(dicts, 'output/reflect/react_reflect_50_correct_dicts.joblib')"
   ]
  }
 ],
 "metadata": {
  "kernelspec": {
   "display_name": "env",
   "language": "python",
   "name": "python3"
  },
  "language_info": {
   "codemirror_mode": {
    "name": "ipython",
    "version": 3
   },
   "file_extension": ".py",
   "mimetype": "text/x-python",
   "name": "python",
   "nbconvert_exporter": "python",
   "pygments_lexer": "ipython3",
   "version": "3.8.9"
  },
  "orig_nbformat": 4,
  "vscode": {
   "interpreter": {
    "hash": "e23f799cbd2581634725fbf6ce3480ae26192d78438dfafc8efe944acd6490d5"
   }
  }
 },
 "nbformat": 4,
 "nbformat_minor": 2
}
