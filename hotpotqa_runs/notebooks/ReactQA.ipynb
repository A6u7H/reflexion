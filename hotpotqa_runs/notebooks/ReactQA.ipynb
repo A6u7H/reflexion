{
 "cells": [
  {
   "attachments": {},
   "cell_type": "markdown",
   "metadata": {},
   "source": [
    "#### Notebook for running React experiments"
   ]
  },
  {
   "cell_type": "code",
   "execution_count": 5,
   "metadata": {},
   "outputs": [],
   "source": [
    "import logging\n",
    "import sys, os\n",
    "sys.path.append('..')\n",
    "root  = '../root/'"
   ]
  },
  {
   "cell_type": "code",
   "execution_count": 6,
   "metadata": {},
   "outputs": [
    {
     "data": {
      "text/plain": [
       "True"
      ]
     },
     "execution_count": 6,
     "metadata": {},
     "output_type": "execute_result"
    }
   ],
   "source": [
    "import dotenv\n",
    "dotenv.load_dotenv()"
   ]
  },
  {
   "cell_type": "code",
   "execution_count": 7,
   "metadata": {},
   "outputs": [],
   "source": [
    "import json\n",
    "import joblib\n",
    "from util import summarize_react_trial, log_react_trial, save_agents, save_results\n",
    "from agents import ReactReflectAgent, ReactAgent, ReflexionStrategy\n",
    "from llm import AnyOpenAILLM"
   ]
  },
  {
   "attachments": {},
   "cell_type": "markdown",
   "metadata": {},
   "source": [
    "#### Load the HotpotQA Sample"
   ]
  },
  {
   "cell_type": "code",
   "execution_count": 8,
   "metadata": {},
   "outputs": [],
   "source": [
    "hotpot = joblib.load('../data/hotpot-qa-distractor-sample.joblib').reset_index(drop = True)"
   ]
  },
  {
   "attachments": {},
   "cell_type": "markdown",
   "metadata": {},
   "source": [
    "#### Define the Reflexion Strategy"
   ]
  },
  {
   "cell_type": "code",
   "execution_count": 9,
   "metadata": {},
   "outputs": [
    {
     "name": "stdout",
     "output_type": "stream",
     "text": [
      "\n",
      "    NONE: No reflection\n",
      "    LAST_ATTEMPT: Use last reasoning trace in context \n",
      "    REFLEXION: Apply reflexion to the next reasoning trace \n",
      "    LAST_ATTEMPT_AND_REFLEXION: Use last reasoning trace in context and apply reflexion to the next reasoning trace \n",
      "    \n"
     ]
    }
   ],
   "source": [
    "print(ReflexionStrategy.__doc__)"
   ]
  },
  {
   "cell_type": "code",
   "execution_count": 10,
   "metadata": {},
   "outputs": [],
   "source": [
    "strategy: ReflexionStrategy = ReflexionStrategy.REFLEXION"
   ]
  },
  {
   "cell_type": "markdown",
   "metadata": {},
   "source": [
    "#### Define the LLMs"
   ]
  },
  {
   "cell_type": "code",
   "execution_count": 11,
   "metadata": {},
   "outputs": [],
   "source": [
    "action_llm = \"gpt-4\"\n",
    "self_reflect_llm = \"gpt-4\""
   ]
  },
  {
   "attachments": {},
   "cell_type": "markdown",
   "metadata": {},
   "source": [
    "#### Initialize a React Agent for each question"
   ]
  },
  {
   "cell_type": "code",
   "execution_count": 12,
   "metadata": {},
   "outputs": [],
   "source": [
    "agent_cls = ReactReflectAgent if strategy != ReflexionStrategy.NONE else ReactAgent\n",
    "if strategy != ReflexionStrategy.NONE:\n",
    "    agents = [ReactReflectAgent(\n",
    "                    row['question'],\n",
    "                    row['answer'],\n",
    "                 react_llm = AnyOpenAILLM(\n",
    "                                             temperature=0,\n",
    "                                             max_tokens=100,\n",
    "                                             model_name=action_llm,\n",
    "                                             model_kwargs={\"stop\": \"\\n\"},\n",
    "                                             openai_api_key=os.environ['OPENAI_API_KEY']),\n",
    "                 reflect_llm = AnyOpenAILLM(\n",
    "                                               temperature=0,\n",
    "                                               max_tokens=250,\n",
    "                                               model_name=self_reflect_llm,\n",
    "                                               openai_api_key=os.environ['OPENAI_API_KEY']),\n",
    "    ) for _, row in hotpot.iterrows()]\n",
    "else:\n",
    "    agents = [ReactAgent(\n",
    "                    row['question'],\n",
    "                    row['answer'],\n",
    "                 react_llm = AnyOpenAILLM(\n",
    "                                             temperature=0,\n",
    "                                             max_tokens=100,\n",
    "                                             model_name=action_llm,\n",
    "                                             model_kwargs={\"stop\": \"\\n\"},\n",
    "                                             openai_api_key=os.environ['OPENAI_API_KEY']),\n",
    "    ) for _, row in hotpot.iterrows()]"
   ]
  },
  {
   "attachments": {},
   "cell_type": "markdown",
   "metadata": {},
   "source": [
    "#### Run `n` trials"
   ]
  },
  {
   "cell_type": "code",
   "execution_count": 14,
   "metadata": {},
   "outputs": [],
   "source": [
    "n = 5\n",
    "trial = 0\n",
    "log = ''\n",
    "results = []\n",
    "\n",
    "run_dir = os.path.join(root, 'ReAct', strategy.value + '_'+ self_reflect_llm)\n",
    "os.makedirs(run_dir, exist_ok=True)\n",
    "\n",
    "# Basic logging config that writes to a file\n",
    "logging.basicConfig(\n",
    "    filename=os.path.join(run_dir, f'{n}_questions.log'),\n",
    "    filemode='w',\n",
    "    format='%(asctime)s - %(levelname)s - %(message)s',\n",
    "    level=logging.INFO\n",
    ")"
   ]
  },
  {
   "cell_type": "code",
   "execution_count": 15,
   "metadata": {},
   "outputs": [
    {
     "name": "stderr",
     "output_type": "stream",
     "text": [
      "/Users/becklabash/Documents/Research/reflexion/reflexion/env/lib/python3.11/site-packages/wikipedia/wikipedia.py:389: GuessedAtParserWarning: No parser was explicitly specified, so I'm using the best available HTML parser for this system (\"html.parser\"). This usually isn't a problem, but if you run this code on another system, or in a different virtual environment, it may use a different parser and behave differently.\n",
      "\n",
      "The code that caused this warning is on line 389 of the file /Users/becklabash/Documents/Research/reflexion/reflexion/env/lib/python3.11/site-packages/wikipedia/wikipedia.py. To get rid of this warning, pass the additional argument 'features=\"html.parser\"' to the BeautifulSoup constructor.\n",
      "\n",
      "  lis = BeautifulSoup(html).find_all('li')\n"
     ]
    },
    {
     "name": "stdout",
     "output_type": "stream",
     "text": [
      "Finished Trial 1, Correct: 39, Incorrect: 45, Halted: 16\n",
      "Finished Trial 2, Correct: 47, Incorrect: 30, Halted: 23\n",
      "Finished Trial 3, Correct: 51, Incorrect: 29, Halted: 20\n",
      "Finished Trial 4, Correct: 52, Incorrect: 25, Halted: 23\n",
      "Finished Trial 5, Correct: 53, Incorrect: 26, Halted: 21\n"
     ]
    }
   ],
   "source": [
    "for i in range(n):\n",
    "    for agent in [a for a in agents if not a.is_correct()]:\n",
    "        if strategy != ReflexionStrategy.NONE:\n",
    "            agent.run(reflect_strategy = strategy)\n",
    "        else:\n",
    "            agent.run()\n",
    "        logging.info(f'Answer: {agent.key}')\n",
    "    trial += 1\n",
    "    log += log_react_trial(agents, trial)\n",
    "    correct, incorrect, halted = summarize_react_trial(agents)\n",
    "    results.append({\"trial\": trial, \"correct\": len(correct), \"incorrect\": len(incorrect), \"halted\": len(halted)})\n",
    "    save_results(agents, results, run_dir)\n",
    "    #save_agents(agents, os.path.join(run_dir, 'ReAct', strategy.value, 'agents', f'trial_{trial}'))\n",
    "    print(f'Finished Trial {trial}, Correct: {len(correct)}, Incorrect: {len(incorrect)}, Halted: {len(halted)}')"
   ]
  },
  {
   "attachments": {},
   "cell_type": "markdown",
   "metadata": {},
   "source": [
    "#### Save the result log"
   ]
  },
  {
   "cell_type": "code",
   "execution_count": null,
   "metadata": {},
   "outputs": [],
   "source": [
    "with open(os.path.join(run_dir, f'{len(agents)}_questions_{trial}_trials.txt'), 'w') as f:\n",
    "    f.write(log)\n",
    "save_agents(agents, os.path.join('ReAct', strategy.value, 'agents'))"
   ]
  }
 ],
 "metadata": {
  "kernelspec": {
   "display_name": "env",
   "language": "python",
   "name": "python3"
  },
  "language_info": {
   "codemirror_mode": {
    "name": "ipython",
    "version": 3
   },
   "file_extension": ".py",
   "mimetype": "text/x-python",
   "name": "python",
   "nbconvert_exporter": "python",
   "pygments_lexer": "ipython3",
   "version": "3.11.4"
  },
  "orig_nbformat": 4,
  "vscode": {
   "interpreter": {
    "hash": "e23f799cbd2581634725fbf6ce3480ae26192d78438dfafc8efe944acd6490d5"
   }
  }
 },
 "nbformat": 4,
 "nbformat_minor": 2
}
